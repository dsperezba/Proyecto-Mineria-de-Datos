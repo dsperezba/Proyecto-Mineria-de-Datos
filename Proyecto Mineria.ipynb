{
 "cells": [
  {
   "cell_type": "markdown",
   "id": "f6ef7d6f",
   "metadata": {},
   "source": [
    "<div align='center'>\n",
    "    <b><i><font size=6><font color=\"darkgreen\">Proyecto Final - Minería de Datos</font></font></i><br></b>\n",
    "    <b><i><font size=5><font color=\"darkblue\">Mask-RCNN para la detección de rostros</font></font></i><br></b>\n",
    "    <i><b><font size=3>Universidad Nacional de Colombia</font></b></i><br>\n",
    "    <i><b><font size=3>Facultad de Ciencias</font></b></i><br>\n",
    "    <i><b><font size=3>Departamento de Estadística</font></b></i><br>\n",
    "    <i><font size=3>Juan Pablo Garzón Rivera (jupgarzonri@unal.edu.co)</font></i><br>\n",
    "    <i><font size=3>David santiago Pérez Barrios (dsperezba@unal.edu.co)</font></i><br>\n",
    "    <i><font size=3>Yeferson Fabian Rubio Montero (yrubiom@unal.edu.co)</font></i><br>\n",
    "    <i><font size=2>Agosto de 2021</font></i><br>\n",
    "</div>"
   ]
  },
  {
   "cell_type": "markdown",
   "id": "32b6088b",
   "metadata": {},
   "source": [
    "# - Introducción -\n",
    "\n",
    "Lo que se conoce como tratamiento o procesamiento digital, corresponde al conjunto de técnicas que se le aplican a las imágenes digitales con el objetivo de mejorar la calidad, añadir efectos, realizar montajes, edición de esta o incluso, la facilidad al momento de una búsqueda de información. En la actualidad, el desarrollo y avnace tecnológico ha posibilitado un enorme avance en el mundo de la fotografía. [(Fuente)](https://iesandresbojollo.es/tiyc/gimp/basico/1-Conceptos_basicos.html)\n",
    "\n",
    "Para ello, la tecnología y en especial las personas que se dedican al aprendizaje de máquina o lo que se conoce también por el nombre de *Minería de Datos*, han optado por recurrir a un tipo de red neuronal conocida como ***Convolucional***. Las redes RNC son un tipo especializado de red neuronal que tiene como fin, el para procesar datos que tiene una topología conocida similar a una cuadrícula. Los ejemplos incluyen datos de series temporales, que pueden puede considerarse como una cuadrícula 1D que toma muestras a intervalos de tiempo regulares y datos de imagen, que puede considerarse como una cuadrícula de píxeles en 2D.\n",
    "\n",
    "El nombre \"red neuronal convolucional\" indica que la red emplea una operación matemática llamada convolución, el cual es un tipo especializado de operación lineal que transforma dos funciones $f$ y $g$ en una tercera función que en cierto sentido representa la magnitud en la que se superponen $f$ y una versión trasladada e invertida de $g$. Las redes convolucionales son simplemente redes neuronales que utilizan convolución en lugar de una matriz general en al menos una de sus capas. [(Fuente)](https://nbviewer.jupyter.org/github/AprendizajeProfundo/Diplomado/blob/master/Temas/Módulo%207-%20Aprendizaje%20Profundo%20I/3.%20Tratamiendo%20de%20imágenes/Cuadernos/ti_convoluciones.ipynb)\n",
    "\n",
    "Algunos ejemplos de Redes Neuronales Convolucionales pueden ser: \n",
    "\n",
    "<img src=\"https://miro.medium.com/max/1350/1*jernXObDJPsMDejwkaCNBw.gif\" width=\"400\" height=\"300\" align=\"center\"/>\n",
    "\n",
    "Imagen tomada de: [Deep Learning for Time Series Classification: a brief overview](https://medium.com/@hassanismailfawaz/deep-learning-for-time-series-classification-a-brief-overview-73b58767ed0f)\n",
    "\n",
    "<img src=\"https://miro.medium.com/max/500/1*CDdDj7z69_jFJ5EeOkx1ag.gif\" width=\"600\" height=\"400\" align=\"center\"/>\n",
    "\n",
    "Imagen tomada de: [Efficient method for running Fully Convolutional Networks (FCNs)](https://towardsdatascience.com/efficient-method-for-running-fully-convolutional-networks-fcns-3174dc6a692b)"
   ]
  },
  {
   "cell_type": "markdown",
   "id": "1a39d02c",
   "metadata": {},
   "source": [
    "Para conocer un poco más acerca de lo que es una convolución en su concepto matemático, puede remitirse al siguiente link \"[Operación Convolución](https://nbviewer.jupyter.org/github/AprendizajeProfundo/Diplomado/blob/master/Temas/Módulo%207-%20Aprendizaje%20Profundo%20I/3.%20Tratamiendo%20de%20imágenes/Cuadernos/ti_convoluciones.ipynb)\", en donde encontrará más información al respecto. A continuación abarcaremos lo que nos compete en este caso que es el uso de convoluciones en el procesamiento de imágenes.\n",
    "\n",
    "### * Convoluciones en el Procesamiento de Imágenes *\n",
    "\n",
    "Una de las aplicaciones más usadas en el **Aprendizaje de Máquina**, es su uso sobre imágenes, donde es posible extender el concepto de convolución a objetos en dos o más dimensiones, **como es el caso de una fotografía a color.** Algunas de las propiedades que podemos encontrar al hacer uso de convoluciones son las siguientes:\n",
    "\n",
    "***Sumas Finitas:***\n",
    "\n",
    "Si se piensa en un proceso de tratamiento de imágenes pero en 2D, se puede obtener una fórmula como la siguiente:\n",
    "\n",
    "$$\n",
    "S (i, j) = (I ∗ K) (i, j) = \\sum_ {m} \\sum_ {n} I (m, n) K (i-m, j-n).\n",
    "$$\n",
    "\n",
    "Donde **I denota la Imagen en cada pixel $m,n$** y **$K$ representa el Kernel trasladándose a lo largo y ancho de la imagen $I$**.\n",
    "\n",
    "\n",
    "***Conmutatividad:***\n",
    "\n",
    "Así mismo, se tiene que la convolución es conmutativa, ya que se puede escribir como:\n",
    "\n",
    "$$\n",
    "S (i, j) = (K ∗ I) (i, j) = \\sum_ {m} \\sum_ {n} I (i-m, j-n) K (m, n).\n",
    "$$\n",
    "\n",
    "Esta propiedad es bastante conveniente para la realización de un estudio matemático de convoluciones.\n",
    "\n",
    "***Correlación Cruzada:***\n",
    "\n",
    "Finalmente, muchas bibliotecas que son utilizadas para el desarrollo de redes neuronales, implementan un función relacionada llamada **correlación cruzada**, que es lo mismo que una convolución tradicional pero sin voltear el kernel. De tal manera que:\n",
    "\n",
    "\n",
    "$$\n",
    "S (i, j) = (I ∗ K) (i, j) = \\sum_m \\sum_n I (i + m, j + n) K (m, n).\n",
    "$$\n",
    "\n",
    "\n",
    "Muchas bibliotecas de aprendizaje automático implementan correlación cruzada, sin embargo, estas las siguen llamando convolución. \n",
    "\n",
    "Información tomada de: [Operación Convolución](https://nbviewer.jupyter.org/github/AprendizajeProfundo/Diplomado/blob/master/Temas/Módulo%207-%20Aprendizaje%20Profundo%20I/3.%20Tratamiendo%20de%20imágenes/Cuadernos/ti_convoluciones.ipynb)\n"
   ]
  },
  {
   "cell_type": "markdown",
   "id": "2e2faaed",
   "metadata": {},
   "source": [
    "# Creación de la base de datos con anotaciones en formato xml\n",
    "\n",
    "En este estudio, la detección de rostros se realizó a partir de las imágenes del conjunto de datos LFW, la cual puede encontrarse en la plataforma [Kaggle](https://www.kaggle.com/atulanandjha/lfwpeople). LFW es una base de datos compuesta por fotografías de rostros, diseñada para estudiar el problema del reconocimiento facial sin restricciones, la cual está compuesta por más de 13.000 imágenes de rostros de personajes famosos, que han sido recopiladas de internet. Cada rostro ha sido etiquetado con el nombre de la persona en la foto, además de que 1680 de las personas en los datos, tienen dos o más fotos distintas en la base. "
   ]
  },
  {
   "cell_type": "code",
   "execution_count": 2,
   "id": "de3fa21c-2f76-4d6c-9453-38df2114ba94",
   "metadata": {},
   "outputs": [
    {
     "name": "stdout",
     "output_type": "stream",
     "text": [
      "Collecting scikit-image==0.16.2\n",
      "  Downloading scikit_image-0.16.2-cp37-cp37m-win_amd64.whl (25.7 MB)\n",
      "Requirement already satisfied: imageio>=2.3.0 in d:\\universidad nacional\\programas\\anaconda\\anaconda\\envs\\p37env\\lib\\site-packages (from scikit-image==0.16.2) (2.9.0)\n",
      "Requirement already satisfied: pillow>=4.3.0 in d:\\universidad nacional\\programas\\anaconda\\anaconda\\envs\\p37env\\lib\\site-packages (from scikit-image==0.16.2) (8.3.1)\n",
      "Requirement already satisfied: matplotlib!=3.0.0,>=2.0.0 in d:\\universidad nacional\\programas\\anaconda\\anaconda\\envs\\p37env\\lib\\site-packages (from scikit-image==0.16.2) (3.4.2)\n",
      "Requirement already satisfied: scipy>=0.19.0 in d:\\universidad nacional\\programas\\anaconda\\anaconda\\envs\\p37env\\lib\\site-packages (from scikit-image==0.16.2) (1.7.1)\n",
      "Requirement already satisfied: networkx>=2.0 in d:\\universidad nacional\\programas\\anaconda\\anaconda\\envs\\p37env\\lib\\site-packages (from scikit-image==0.16.2) (2.6.2)\n",
      "Requirement already satisfied: PyWavelets>=0.4.0 in d:\\universidad nacional\\programas\\anaconda\\anaconda\\envs\\p37env\\lib\\site-packages (from scikit-image==0.16.2) (1.1.1)\n",
      "Requirement already satisfied: numpy in d:\\universidad nacional\\programas\\anaconda\\anaconda\\envs\\p37env\\lib\\site-packages (from imageio>=2.3.0->scikit-image==0.16.2) (1.21.1)\n",
      "Requirement already satisfied: cycler>=0.10 in d:\\universidad nacional\\programas\\anaconda\\anaconda\\envs\\p37env\\lib\\site-packages (from matplotlib!=3.0.0,>=2.0.0->scikit-image==0.16.2) (0.10.0)\n",
      "Requirement already satisfied: kiwisolver>=1.0.1 in d:\\universidad nacional\\programas\\anaconda\\anaconda\\envs\\p37env\\lib\\site-packages (from matplotlib!=3.0.0,>=2.0.0->scikit-image==0.16.2) (1.3.1)\n",
      "Requirement already satisfied: pyparsing>=2.2.1 in d:\\universidad nacional\\programas\\anaconda\\anaconda\\envs\\p37env\\lib\\site-packages (from matplotlib!=3.0.0,>=2.0.0->scikit-image==0.16.2) (2.4.7)\n",
      "Requirement already satisfied: python-dateutil>=2.7 in d:\\universidad nacional\\programas\\anaconda\\anaconda\\envs\\p37env\\lib\\site-packages (from matplotlib!=3.0.0,>=2.0.0->scikit-image==0.16.2) (2.8.2)\n",
      "Requirement already satisfied: six in d:\\universidad nacional\\programas\\anaconda\\anaconda\\envs\\p37env\\lib\\site-packages (from cycler>=0.10->matplotlib!=3.0.0,>=2.0.0->scikit-image==0.16.2) (1.16.0)\n",
      "Installing collected packages: scikit-image\n",
      "  Attempting uninstall: scikit-image\n",
      "    Found existing installation: scikit-image 0.18.2\n",
      "    Uninstalling scikit-image-0.18.2:\n",
      "      Successfully uninstalled scikit-image-0.18.2\n",
      "Successfully installed scikit-image-0.16.2\n"
     ]
    }
   ],
   "source": [
    "!pip install scikit-image==0.16.2"
   ]
  },
  {
   "cell_type": "code",
   "execution_count": 3,
   "id": "d07673c6",
   "metadata": {},
   "outputs": [
    {
     "name": "stderr",
     "output_type": "stream",
     "text": [
      "D:\\Universidad Nacional\\Programas\\Anaconda\\Anaconda\\envs\\p37env\\lib\\site-packages\\tensorflow\\python\\framework\\dtypes.py:516: FutureWarning: Passing (type, 1) or '1type' as a synonym of type is deprecated; in a future version of numpy, it will be understood as (type, (1,)) / '(1,)type'.\n",
      "  _np_qint8 = np.dtype([(\"qint8\", np.int8, 1)])\n",
      "D:\\Universidad Nacional\\Programas\\Anaconda\\Anaconda\\envs\\p37env\\lib\\site-packages\\tensorflow\\python\\framework\\dtypes.py:517: FutureWarning: Passing (type, 1) or '1type' as a synonym of type is deprecated; in a future version of numpy, it will be understood as (type, (1,)) / '(1,)type'.\n",
      "  _np_quint8 = np.dtype([(\"quint8\", np.uint8, 1)])\n",
      "D:\\Universidad Nacional\\Programas\\Anaconda\\Anaconda\\envs\\p37env\\lib\\site-packages\\tensorflow\\python\\framework\\dtypes.py:518: FutureWarning: Passing (type, 1) or '1type' as a synonym of type is deprecated; in a future version of numpy, it will be understood as (type, (1,)) / '(1,)type'.\n",
      "  _np_qint16 = np.dtype([(\"qint16\", np.int16, 1)])\n",
      "D:\\Universidad Nacional\\Programas\\Anaconda\\Anaconda\\envs\\p37env\\lib\\site-packages\\tensorflow\\python\\framework\\dtypes.py:519: FutureWarning: Passing (type, 1) or '1type' as a synonym of type is deprecated; in a future version of numpy, it will be understood as (type, (1,)) / '(1,)type'.\n",
      "  _np_quint16 = np.dtype([(\"quint16\", np.uint16, 1)])\n",
      "D:\\Universidad Nacional\\Programas\\Anaconda\\Anaconda\\envs\\p37env\\lib\\site-packages\\tensorflow\\python\\framework\\dtypes.py:520: FutureWarning: Passing (type, 1) or '1type' as a synonym of type is deprecated; in a future version of numpy, it will be understood as (type, (1,)) / '(1,)type'.\n",
      "  _np_qint32 = np.dtype([(\"qint32\", np.int32, 1)])\n",
      "D:\\Universidad Nacional\\Programas\\Anaconda\\Anaconda\\envs\\p37env\\lib\\site-packages\\tensorflow\\python\\framework\\dtypes.py:525: FutureWarning: Passing (type, 1) or '1type' as a synonym of type is deprecated; in a future version of numpy, it will be understood as (type, (1,)) / '(1,)type'.\n",
      "  np_resource = np.dtype([(\"resource\", np.ubyte, 1)])\n",
      "D:\\Universidad Nacional\\Programas\\Anaconda\\Anaconda\\envs\\p37env\\lib\\site-packages\\tensorboard\\compat\\tensorflow_stub\\dtypes.py:541: FutureWarning: Passing (type, 1) or '1type' as a synonym of type is deprecated; in a future version of numpy, it will be understood as (type, (1,)) / '(1,)type'.\n",
      "  _np_qint8 = np.dtype([(\"qint8\", np.int8, 1)])\n",
      "D:\\Universidad Nacional\\Programas\\Anaconda\\Anaconda\\envs\\p37env\\lib\\site-packages\\tensorboard\\compat\\tensorflow_stub\\dtypes.py:542: FutureWarning: Passing (type, 1) or '1type' as a synonym of type is deprecated; in a future version of numpy, it will be understood as (type, (1,)) / '(1,)type'.\n",
      "  _np_quint8 = np.dtype([(\"quint8\", np.uint8, 1)])\n",
      "D:\\Universidad Nacional\\Programas\\Anaconda\\Anaconda\\envs\\p37env\\lib\\site-packages\\tensorboard\\compat\\tensorflow_stub\\dtypes.py:543: FutureWarning: Passing (type, 1) or '1type' as a synonym of type is deprecated; in a future version of numpy, it will be understood as (type, (1,)) / '(1,)type'.\n",
      "  _np_qint16 = np.dtype([(\"qint16\", np.int16, 1)])\n",
      "D:\\Universidad Nacional\\Programas\\Anaconda\\Anaconda\\envs\\p37env\\lib\\site-packages\\tensorboard\\compat\\tensorflow_stub\\dtypes.py:544: FutureWarning: Passing (type, 1) or '1type' as a synonym of type is deprecated; in a future version of numpy, it will be understood as (type, (1,)) / '(1,)type'.\n",
      "  _np_quint16 = np.dtype([(\"quint16\", np.uint16, 1)])\n",
      "D:\\Universidad Nacional\\Programas\\Anaconda\\Anaconda\\envs\\p37env\\lib\\site-packages\\tensorboard\\compat\\tensorflow_stub\\dtypes.py:545: FutureWarning: Passing (type, 1) or '1type' as a synonym of type is deprecated; in a future version of numpy, it will be understood as (type, (1,)) / '(1,)type'.\n",
      "  _np_qint32 = np.dtype([(\"qint32\", np.int32, 1)])\n",
      "D:\\Universidad Nacional\\Programas\\Anaconda\\Anaconda\\envs\\p37env\\lib\\site-packages\\tensorboard\\compat\\tensorflow_stub\\dtypes.py:550: FutureWarning: Passing (type, 1) or '1type' as a synonym of type is deprecated; in a future version of numpy, it will be understood as (type, (1,)) / '(1,)type'.\n",
      "  np_resource = np.dtype([(\"resource\", np.ubyte, 1)])\n",
      "Using TensorFlow backend.\n"
     ]
    }
   ],
   "source": [
    "## lectura del archivo de texto\n",
    "import matplotlib.pyplot as plt\n",
    "from os import listdir\n",
    "import shutil\n",
    "import numpy as np\n",
    "#import cv2\n",
    "import random as rd\n",
    "from mrcnn.utils import Dataset\n",
    "from mrcnn.config import Config\n",
    "from mrcnn.model import MaskRCNN\n",
    "from matplotlib import pyplot\n",
    "from random import sample\n",
    "direc = \"D:/Proyecto_Mineria/Proyecto_JP/este es.txt\"\n",
    "direc2 = \"D:/Proyecto_Mineria/Proyecto_JP/WIDER_train/images/\""
   ]
  },
  {
   "cell_type": "code",
   "execution_count": 2,
   "id": "498eae05",
   "metadata": {},
   "outputs": [
    {
     "name": "stdout",
     "output_type": "stream",
     "text": [
      "Requirement already satisfied: h5py==2.10.0 in d:\\universidad nacional\\programas\\anaconda\\anaconda\\envs\\p37env\\lib\\site-packages (2.10.0)\n",
      "Requirement already satisfied: numpy>=1.7 in d:\\universidad nacional\\programas\\anaconda\\anaconda\\envs\\p37env\\lib\\site-packages (from h5py==2.10.0) (1.21.1)\n",
      "Requirement already satisfied: six in d:\\universidad nacional\\programas\\anaconda\\anaconda\\envs\\p37env\\lib\\site-packages (from h5py==2.10.0) (1.16.0)\n"
     ]
    }
   ],
   "source": [
    "!pip install h5py==2.10.0"
   ]
  },
  {
   "cell_type": "code",
   "execution_count": 3,
   "id": "63ed3bd3",
   "metadata": {},
   "outputs": [
    {
     "name": "stdout",
     "output_type": "stream",
     "text": [
      "Requirement already satisfied: tensorflow==1.14.0 in d:\\universidad nacional\\programas\\anaconda\\anaconda\\envs\\p37env\\lib\\site-packages (1.14.0)\n",
      "Requirement already satisfied: google-pasta>=0.1.6 in d:\\universidad nacional\\programas\\anaconda\\anaconda\\envs\\p37env\\lib\\site-packages (from tensorflow==1.14.0) (0.2.0)\n",
      "Requirement already satisfied: keras-preprocessing>=1.0.5 in d:\\universidad nacional\\programas\\anaconda\\anaconda\\envs\\p37env\\lib\\site-packages (from tensorflow==1.14.0) (1.1.2)\n",
      "Requirement already satisfied: tensorflow-estimator<1.15.0rc0,>=1.14.0rc0 in d:\\universidad nacional\\programas\\anaconda\\anaconda\\envs\\p37env\\lib\\site-packages (from tensorflow==1.14.0) (1.14.0)\n",
      "Requirement already satisfied: astor>=0.6.0 in d:\\universidad nacional\\programas\\anaconda\\anaconda\\envs\\p37env\\lib\\site-packages (from tensorflow==1.14.0) (0.8.1)\n",
      "Requirement already satisfied: gast>=0.2.0 in d:\\universidad nacional\\programas\\anaconda\\anaconda\\envs\\p37env\\lib\\site-packages (from tensorflow==1.14.0) (0.5.2)\n",
      "Requirement already satisfied: wheel>=0.26 in d:\\universidad nacional\\programas\\anaconda\\anaconda\\envs\\p37env\\lib\\site-packages (from tensorflow==1.14.0) (0.36.2)\n",
      "Requirement already satisfied: numpy<2.0,>=1.14.5 in d:\\universidad nacional\\programas\\anaconda\\anaconda\\envs\\p37env\\lib\\site-packages (from tensorflow==1.14.0) (1.21.1)\n",
      "Requirement already satisfied: wrapt>=1.11.1 in d:\\universidad nacional\\programas\\anaconda\\anaconda\\envs\\p37env\\lib\\site-packages (from tensorflow==1.14.0) (1.12.1)\n",
      "Requirement already satisfied: grpcio>=1.8.6 in d:\\universidad nacional\\programas\\anaconda\\anaconda\\envs\\p37env\\lib\\site-packages (from tensorflow==1.14.0) (1.39.0)\n",
      "Requirement already satisfied: keras-applications>=1.0.6 in d:\\universidad nacional\\programas\\anaconda\\anaconda\\envs\\p37env\\lib\\site-packages (from tensorflow==1.14.0) (1.0.8)\n",
      "Requirement already satisfied: protobuf>=3.6.1 in d:\\universidad nacional\\programas\\anaconda\\anaconda\\envs\\p37env\\lib\\site-packages (from tensorflow==1.14.0) (3.17.3)\n",
      "Requirement already satisfied: absl-py>=0.7.0 in d:\\universidad nacional\\programas\\anaconda\\anaconda\\envs\\p37env\\lib\\site-packages (from tensorflow==1.14.0) (0.13.0)\n",
      "Requirement already satisfied: tensorboard<1.15.0,>=1.14.0 in d:\\universidad nacional\\programas\\anaconda\\anaconda\\envs\\p37env\\lib\\site-packages (from tensorflow==1.14.0) (1.14.0)\n",
      "Requirement already satisfied: six>=1.10.0 in d:\\universidad nacional\\programas\\anaconda\\anaconda\\envs\\p37env\\lib\\site-packages (from tensorflow==1.14.0) (1.16.0)\n",
      "Requirement already satisfied: termcolor>=1.1.0 in d:\\universidad nacional\\programas\\anaconda\\anaconda\\envs\\p37env\\lib\\site-packages (from tensorflow==1.14.0) (1.1.0)\n",
      "Requirement already satisfied: h5py in d:\\universidad nacional\\programas\\anaconda\\anaconda\\envs\\p37env\\lib\\site-packages (from keras-applications>=1.0.6->tensorflow==1.14.0) (2.10.0)\n",
      "Requirement already satisfied: setuptools>=41.0.0 in d:\\universidad nacional\\programas\\anaconda\\anaconda\\envs\\p37env\\lib\\site-packages (from tensorboard<1.15.0,>=1.14.0->tensorflow==1.14.0) (52.0.0.post20210125)\n",
      "Requirement already satisfied: werkzeug>=0.11.15 in d:\\universidad nacional\\programas\\anaconda\\anaconda\\envs\\p37env\\lib\\site-packages (from tensorboard<1.15.0,>=1.14.0->tensorflow==1.14.0) (2.0.1)\n",
      "Requirement already satisfied: markdown>=2.6.8 in d:\\universidad nacional\\programas\\anaconda\\anaconda\\envs\\p37env\\lib\\site-packages (from tensorboard<1.15.0,>=1.14.0->tensorflow==1.14.0) (3.3.4)\n",
      "Requirement already satisfied: importlib-metadata in d:\\universidad nacional\\programas\\anaconda\\anaconda\\envs\\p37env\\lib\\site-packages (from markdown>=2.6.8->tensorboard<1.15.0,>=1.14.0->tensorflow==1.14.0) (3.10.0)\n",
      "Requirement already satisfied: zipp>=0.5 in d:\\universidad nacional\\programas\\anaconda\\anaconda\\envs\\p37env\\lib\\site-packages (from importlib-metadata->markdown>=2.6.8->tensorboard<1.15.0,>=1.14.0->tensorflow==1.14.0) (3.5.0)\n",
      "Requirement already satisfied: typing-extensions>=3.6.4 in d:\\universidad nacional\\programas\\anaconda\\anaconda\\envs\\p37env\\lib\\site-packages (from importlib-metadata->markdown>=2.6.8->tensorboard<1.15.0,>=1.14.0->tensorflow==1.14.0) (3.10.0.0)\n"
     ]
    }
   ],
   "source": [
    "!pip install tensorflow==1.14.0"
   ]
  },
  {
   "cell_type": "code",
   "execution_count": 4,
   "id": "59988f23",
   "metadata": {},
   "outputs": [
    {
     "name": "stdout",
     "output_type": "stream",
     "text": [
      "Requirement already satisfied: keras==2.2.4 in d:\\universidad nacional\\programas\\anaconda\\anaconda\\envs\\p37env\\lib\\site-packages (2.2.4)\n",
      "Requirement already satisfied: keras-applications>=1.0.6 in d:\\universidad nacional\\programas\\anaconda\\anaconda\\envs\\p37env\\lib\\site-packages (from keras==2.2.4) (1.0.8)\n",
      "Requirement already satisfied: h5py in d:\\universidad nacional\\programas\\anaconda\\anaconda\\envs\\p37env\\lib\\site-packages (from keras==2.2.4) (2.10.0)\n",
      "Requirement already satisfied: six>=1.9.0 in d:\\universidad nacional\\programas\\anaconda\\anaconda\\envs\\p37env\\lib\\site-packages (from keras==2.2.4) (1.16.0)\n",
      "Requirement already satisfied: keras-preprocessing>=1.0.5 in d:\\universidad nacional\\programas\\anaconda\\anaconda\\envs\\p37env\\lib\\site-packages (from keras==2.2.4) (1.1.2)\n",
      "Requirement already satisfied: numpy>=1.9.1 in d:\\universidad nacional\\programas\\anaconda\\anaconda\\envs\\p37env\\lib\\site-packages (from keras==2.2.4) (1.21.1)\n",
      "Requirement already satisfied: pyyaml in d:\\universidad nacional\\programas\\anaconda\\anaconda\\envs\\p37env\\lib\\site-packages (from keras==2.2.4) (5.4.1)\n",
      "Requirement already satisfied: scipy>=0.14 in d:\\universidad nacional\\programas\\anaconda\\anaconda\\envs\\p37env\\lib\\site-packages (from keras==2.2.4) (1.7.1)\n"
     ]
    }
   ],
   "source": [
    "!pip install keras==2.2.4"
   ]
  },
  {
   "cell_type": "markdown",
   "id": "5c0bbbfe",
   "metadata": {},
   "source": [
    "### Selección aleatoria"
   ]
  },
  {
   "cell_type": "code",
   "execution_count": 14,
   "id": "a0fb3bb3",
   "metadata": {},
   "outputs": [],
   "source": [
    "def lectura_datos(direc):\n",
    "    f = open(direc,'r') \n",
    "    archivo = f.readlines()\n",
    "    nombres = []\n",
    "    cajas = []\n",
    "    count = 0\n",
    "    \n",
    "    for i in archivo:\n",
    "        try:\n",
    "            int(i[:-1])\n",
    "            n=int(i[:-1])\n",
    "        except:\n",
    "            n=\"error\"   \n",
    "        \n",
    "        if n!=\"error\":\n",
    "            nombres.append(archivo[count-1][:-1])\n",
    "            cajas.append(np.array([[int(k) for k in j.split(\" \")[:4]] for j in archivo[count+1:count+n+1]]))\n",
    "        count = count+1\n",
    "    \n",
    "    return nombres, cajas\n",
    "        \n",
    "nombres, cajas=lectura_datos(direc)"
   ]
  },
  {
   "cell_type": "code",
   "execution_count": 16,
   "id": "4d9795be",
   "metadata": {},
   "outputs": [],
   "source": [
    "limites=[]\n",
    "con=0\n",
    "lim=0\n",
    "for i in nombres:\n",
    "    if int(i[:i.index(\"-\")])==con:\n",
    "        lim+=1\n",
    "        continue\n",
    "    con=int(i[:i.index(\"-\")])\n",
    "    limites.append(lim)\n",
    "    lim+=1\n",
    "\n",
    "carpeta_imagenes=[nombres[:limites[0]]]\n",
    "\n",
    "for j in range(len(limites)-1):\n",
    "    carpeta_imagenes.append(nombres[limites[j]:limites[j+1]])\n",
    "\n",
    "base=[]\n",
    "rd.seed(18)\n",
    "for i in carpeta_imagenes:\n",
    "    base+=rd.sample(i,10)\n",
    "    \n",
    "indices=[nombres.index(i) for i in base]\n",
    "cajas_base=[cajas[i] for i in indices] \n",
    "\n",
    "### Se hacen copias de las imagenes seleccionadas anterioriormente. Esto con el fin de separar la base a utilizar en el entrenamiento\n",
    "count=1\n",
    "for i in base:\n",
    "    shutil.copy(direc2+i,\n",
    "            \"D:/Proyecto_Mineria/Proyecto_JP/Rostros/Imagenes/\"+str(count)+\".jpg\")\n",
    "    count+=1"
   ]
  },
  {
   "cell_type": "markdown",
   "id": "0b592563",
   "metadata": {},
   "source": [
    "### Creación de las anotaciones en formato xml para las imagenes seleccionadas"
   ]
  },
  {
   "cell_type": "code",
   "execution_count": 17,
   "id": "687de2b2",
   "metadata": {},
   "outputs": [],
   "source": [
    "import xml.etree.ElementTree as ET\n",
    "import cv2"
   ]
  },
  {
   "cell_type": "code",
   "execution_count": 18,
   "id": "40177b77",
   "metadata": {},
   "outputs": [],
   "source": [
    "for i in range(len(base)):\n",
    "    dim=cv2.imread(direc2+base[i]).shape\n",
    "    node_root = ET.Element('annotation')\n",
    " \n",
    "    node_folder = ET.SubElement(node_root, 'folder')\n",
    "    node_folder.text = 'Rostros'\n",
    "\n",
    "    node_path=ET.SubElement(node_root,'path')\n",
    "    node_path.text=direc2+base[i] \n",
    "    node_filename = ET.SubElement(node_root, 'filename')\n",
    "    node_filename.text = str(i)+\".jpg\"\n",
    "    \n",
    "    node_source = ET.SubElement(node_root, 'source')\n",
    "    node_source.text =\"WIDER Face Training Images\"\n",
    " \n",
    "    node_size = ET.SubElement(node_root, 'size')\n",
    "    \n",
    "    node_width = ET.SubElement(node_size, 'width')\n",
    "    node_width.text = str(dim[1])\n",
    "    \n",
    "    node_height = ET.SubElement(node_size, 'height')\n",
    "    node_height.text = str(dim[0])\n",
    " \n",
    "    node_depth = ET.SubElement(node_size, 'depth')\n",
    "    node_depth.text = str(dim[2])\n",
    "    \n",
    "    for j in range(cajas_base[i].shape[0]):\n",
    "        node_object = ET.SubElement(node_root, 'object')\n",
    "        node_name = ET.SubElement(node_object, 'name')\n",
    "        node_name.text = 'rostro'\n",
    "        node_difficult = ET.SubElement(node_object, 'difficult')\n",
    "        node_difficult.text = '0'\n",
    "        node_bndbox = ET.SubElement(node_object, 'bndbox')\n",
    "        node_xmin = ET.SubElement(node_bndbox, 'xmin')\n",
    "        node_xmin.text = str(cajas_base[i][j,:][0])\n",
    "        node_ymin = ET.SubElement(node_bndbox, 'ymin')\n",
    "        node_ymin.text = str(cajas_base[i][j,:][1])\n",
    "        node_xmax = ET.SubElement(node_bndbox, 'xmax')\n",
    "        node_xmax.text = str(cajas_base[i][j,:][0]+cajas_base[i][j,:][2])\n",
    "        node_ymax = ET.SubElement(node_bndbox, 'ymax')\n",
    "        node_ymax.text = str(cajas_base[i][j,:][1]+cajas_base[i][j,:][3])\n",
    "    \n",
    "    arbol = ET.ElementTree(node_root)\n",
    "    arbol.write(\"D:/Proyecto_Mineria/Proyecto_JP/Rostros/Anotaciones/\"+str(i+1)+\".xml\")"
   ]
  },
  {
   "cell_type": "code",
   "execution_count": 4,
   "id": "698c23c9",
   "metadata": {
    "tags": []
   },
   "outputs": [],
   "source": [
    "from os import listdir\n",
    "from numpy import zeros\n",
    "from numpy import asarray\n",
    "from mrcnn.utils import Dataset\n",
    "from matplotlib import pyplot\n",
    "import random as rd\n",
    "import matplotlib.pyplot as plt\n",
    "from os import listdir\n",
    "import numpy as np\n",
    "from mrcnn.utils import Dataset\n",
    "from mrcnn.config import Config\n",
    "from mrcnn.model import MaskRCNN\n",
    "from matplotlib import pyplot\n",
    "from random import sample"
   ]
  },
  {
   "cell_type": "code",
   "execution_count": 19,
   "id": "528c1072",
   "metadata": {},
   "outputs": [],
   "source": [
    "def entrenamiento_validacion(img_dir,p_val=20):\n",
    "        images_dir = img_dir + '/Imagenes/'\n",
    "        val_img=rd.sample(listdir(images_dir),len(listdir(images_dir))*p_val//100)\n",
    "        ent_img=listdir(images_dir)\n",
    "        for i in val_img:\n",
    "            ent_img.remove(i)\n",
    "        return ent_img, val_img\n",
    "\n",
    "class RostroDataset(Dataset):\n",
    "\t# load the dataset definitions\n",
    "\tdef load_dataset(self, dataset_dir, lis_data):\n",
    "\t\t# define one class\n",
    "\t\tself.add_class(\"dataset\", 1, \"Rostro\")\n",
    "\t\t# define data locations\n",
    "\t\timages_dir = dataset_dir + '/Imagenes/'\n",
    "\t\tannotations_dir = dataset_dir + '/Anotaciones/'\n",
    "\t\t# find all images\n",
    "\t\tfor filename in lis_data:\n",
    "\t\t\t# extract image id\n",
    "\t\t\timage_id = filename[:-4]\n",
    "\t\t\timg_path = images_dir + filename\n",
    "\t\t\tann_path = annotations_dir + image_id + '.xml'\n",
    "\t\t\t# add to dataset\n",
    "\t\t\tself.add_image('dataset', image_id=image_id, path=img_path, annotation=ann_path)\n",
    " \n",
    "\t# extract bounding boxes from an annotation file\n",
    "\tdef extract_boxes(self, filename):\n",
    "\t\t# load and parse the file\n",
    "\t\ttree = ElementTree.parse(filename)\n",
    "\t\t# get the root of the document\n",
    "\t\troot = tree.getroot()\n",
    "\t\t# extract each bounding box\n",
    "\t\tboxes = list()\n",
    "\t\tfor box in root.findall('.//bndbox'):\n",
    "\t\t\txmin = int(box.find('xmin').text)\n",
    "\t\t\tymin = int(box.find('ymin').text)\n",
    "\t\t\txmax = int(box.find('xmax').text)\n",
    "\t\t\tymax = int(box.find('ymax').text)\n",
    "\t\t\tcoors = [xmin, ymin, xmax, ymax]\n",
    "\t\t\tboxes.append(coors)\n",
    "\t\t# extract image dimensions\n",
    "\t\twidth = int(root.find('.//size/width').text)\n",
    "\t\theight = int(root.find('.//size/height').text)\n",
    "\t\treturn boxes, width, height\n",
    " \n",
    "\t# load the masks for an image\n",
    "\tdef load_mask(self, image_id):\n",
    "\t\t# get details of image\n",
    "\t\tinfo = self.image_info[image_id]\n",
    "\t\t# define box file location\n",
    "\t\tpath = info['annotation']\n",
    "\t\t# load XML\n",
    "\t\tboxes, w, h = self.extract_boxes(path)\n",
    "\t\t# create one array for all masks, each on a different channel\n",
    "\t\tmasks = zeros([h, w, len(boxes)], dtype='uint8')\n",
    "\t\t# create masks\n",
    "\t\tclass_ids = list()\n",
    "\t\tfor i in range(len(boxes)):\n",
    "\t\t\tbox = boxes[i]\n",
    "\t\t\trow_s, row_e = box[1], box[3]\n",
    "\t\t\tcol_s, col_e = box[0], box[2]\n",
    "\t\t\tmasks[row_s:row_e, col_s:col_e, i] = 1\n",
    "\t\t\tclass_ids.append(self.class_names.index('Rostro'))\n",
    "\t\treturn masks, asarray(class_ids, dtype='int32')\n",
    " \n",
    "\t# load an image reference\n",
    "\tdef image_reference(self, image_id):\n",
    "\t\tinfo = self.image_info[image_id]\n",
    "\t\treturn info['path']\n",
    " \n"
   ]
  },
  {
   "cell_type": "code",
   "execution_count": 20,
   "id": "f08f625a",
   "metadata": {
    "tags": []
   },
   "outputs": [],
   "source": [
    "img_dir=\"D:/Proyecto_Mineria/Proyecto_JP/Rostros\"\n",
    "entr, val=entrenamiento_validacion(img_dir)"
   ]
  },
  {
   "cell_type": "code",
   "execution_count": 21,
   "id": "d3392842",
   "metadata": {
    "tags": []
   },
   "outputs": [
    {
     "name": "stdout",
     "output_type": "stream",
     "text": [
      "Train: 480\n",
      "Test: 120\n"
     ]
    }
   ],
   "source": [
    "# train set\n",
    "train_set = RostroDataset()\n",
    "train_set.load_dataset(img_dir, entr)\n",
    "train_set.prepare()\n",
    "print('Train: %d' % len(train_set.image_ids))\n",
    " \n",
    "# test/val set\n",
    "test_set = RostroDataset()\n",
    "test_set.load_dataset(img_dir, val)\n",
    "test_set.prepare()\n",
    "print('Test: %d' % len(test_set.image_ids))\n"
   ]
  },
  {
   "cell_type": "code",
   "execution_count": 22,
   "id": "eff50a68",
   "metadata": {},
   "outputs": [
    {
     "name": "stdout",
     "output_type": "stream",
     "text": [
      "(1371, 1024, 3)\n",
      "(1371, 1024, 3)\n"
     ]
    },
    {
     "data": {
      "image/png": "[encoded data removed]",
      "text/plain": [
       "<Figure size 432x288 with 1 Axes>"
      ]
     },
     "metadata": {
      "needs_background": "light"
     },
     "output_type": "display_data"
    }
   ],
   "source": [
    "from xml.etree import ElementTree\n",
    "image_id = 12\n",
    "image = train_set.load_image(image_id)\n",
    "print(image.shape)\n",
    "# load image mask\n",
    "mask, class_ids = train_set.load_mask(image_id)\n",
    "print(mask.shape)\n",
    "# plot image\n",
    "pyplot.imshow(image)\n",
    "# plot mask\n",
    "pyplot.imshow(mask[:, :, 0], cmap='gray', alpha=0.5)\n",
    "pyplot.show()"
   ]
  },
  {
   "cell_type": "code",
   "execution_count": 23,
   "id": "56eb5a59",
   "metadata": {},
   "outputs": [],
   "source": [
    "class rostroconfig(Config):\n",
    "\t# define the name of the configuration\n",
    "\tNAME = \"rostro_cfg\"\n",
    "\t# number of classes (background + kangaroo)\n",
    "\tNUM_CLASSES = 2\n",
    "\t# number of training steps per epoch\n",
    "\tSTEPS_PER_EPOCH = 480"
   ]
  },
  {
   "cell_type": "code",
   "execution_count": 24,
   "id": "847d0900",
   "metadata": {
    "tags": []
   },
   "outputs": [
    {
     "name": "stdout",
     "output_type": "stream",
     "text": [
      "\n",
      "Configurations:\n",
      "BACKBONE                       resnet101\n",
      "BACKBONE_STRIDES               [4, 8, 16, 32, 64]\n",
      "BATCH_SIZE                     2\n",
      "BBOX_STD_DEV                   [0.1 0.1 0.2 0.2]\n",
      "COMPUTE_BACKBONE_SHAPE         None\n",
      "DETECTION_MAX_INSTANCES        100\n",
      "DETECTION_MIN_CONFIDENCE       0.7\n",
      "DETECTION_NMS_THRESHOLD        0.3\n",
      "FPN_CLASSIF_FC_LAYERS_SIZE     1024\n",
      "GPU_COUNT                      1\n",
      "GRADIENT_CLIP_NORM             5.0\n",
      "IMAGES_PER_GPU                 2\n",
      "IMAGE_MAX_DIM                  1024\n",
      "IMAGE_META_SIZE                14\n",
      "IMAGE_MIN_DIM                  800\n",
      "IMAGE_MIN_SCALE                0\n",
      "IMAGE_RESIZE_MODE              square\n",
      "IMAGE_SHAPE                    [1024 1024    3]\n",
      "LEARNING_MOMENTUM              0.9\n",
      "LEARNING_RATE                  0.001\n",
      "LOSS_WEIGHTS                   {'rpn_class_loss': 1.0, 'rpn_bbox_loss': 1.0, 'mrcnn_class_loss': 1.0, 'mrcnn_bbox_loss': 1.0, 'mrcnn_mask_loss': 1.0}\n",
      "MASK_POOL_SIZE                 14\n",
      "MASK_SHAPE                     [28, 28]\n",
      "MAX_GT_INSTANCES               100\n",
      "MEAN_PIXEL                     [123.7 116.8 103.9]\n",
      "MINI_MASK_SHAPE                (56, 56)\n",
      "NAME                           rostro_cfg\n",
      "NUM_CLASSES                    2\n",
      "POOL_SIZE                      7\n",
      "POST_NMS_ROIS_INFERENCE        1000\n",
      "POST_NMS_ROIS_TRAINING         2000\n",
      "ROI_POSITIVE_RATIO             0.33\n",
      "RPN_ANCHOR_RATIOS              [0.5, 1, 2]\n",
      "RPN_ANCHOR_SCALES              (32, 64, 128, 256, 512)\n",
      "RPN_ANCHOR_STRIDE              1\n",
      "RPN_BBOX_STD_DEV               [0.1 0.1 0.2 0.2]\n",
      "RPN_NMS_THRESHOLD              0.7\n",
      "RPN_TRAIN_ANCHORS_PER_IMAGE    256\n",
      "STEPS_PER_EPOCH                480\n",
      "TOP_DOWN_PYRAMID_SIZE          256\n",
      "TRAIN_BN                       False\n",
      "TRAIN_ROIS_PER_IMAGE           200\n",
      "USE_MINI_MASK                  True\n",
      "USE_RPN_ROIS                   True\n",
      "VALIDATION_STEPS               50\n",
      "WEIGHT_DECAY                   0.0001\n",
      "\n",
      "\n",
      "\n",
      "Starting at epoch 0. LR=0.001\n",
      "\n",
      "Checkpoint Path: D:/Proyecto_Mineria/Proyecto_JP/Rostros/Pesos\\rostro_cfg20210805T2211\\mask_rcnn_rostro_cfg_{epoch:04d}.h5\n",
      "Selecting layers to train\n",
      "fpn_c5p5               (Conv2D)\n",
      "fpn_c4p4               (Conv2D)\n",
      "fpn_c3p3               (Conv2D)\n",
      "fpn_c2p2               (Conv2D)\n",
      "fpn_p5                 (Conv2D)\n",
      "fpn_p2                 (Conv2D)\n",
      "fpn_p3                 (Conv2D)\n",
      "fpn_p4                 (Conv2D)\n",
      "In model:  rpn_model\n",
      "    rpn_conv_shared        (Conv2D)\n",
      "    rpn_class_raw          (Conv2D)\n",
      "    rpn_bbox_pred          (Conv2D)\n",
      "mrcnn_mask_conv1       (TimeDistributed)\n",
      "mrcnn_mask_bn1         (TimeDistributed)\n",
      "mrcnn_mask_conv2       (TimeDistributed)\n",
      "mrcnn_mask_bn2         (TimeDistributed)\n",
      "mrcnn_class_conv1      (TimeDistributed)\n",
      "mrcnn_class_bn1        (TimeDistributed)\n",
      "mrcnn_mask_conv3       (TimeDistributed)\n",
      "mrcnn_mask_bn3         (TimeDistributed)\n",
      "mrcnn_class_conv2      (TimeDistributed)\n",
      "mrcnn_class_bn2        (TimeDistributed)\n",
      "mrcnn_mask_conv4       (TimeDistributed)\n",
      "mrcnn_mask_bn4         (TimeDistributed)\n",
      "mrcnn_bbox_fc          (TimeDistributed)\n",
      "mrcnn_mask_deconv      (TimeDistributed)\n",
      "mrcnn_class_logits     (TimeDistributed)\n",
      "mrcnn_mask             (TimeDistributed)\n"
     ]
    },
    {
     "name": "stderr",
     "output_type": "stream",
     "text": [
      "D:\\Universidad Nacional\\Programas\\Anaconda\\Anaconda\\envs\\p37env\\lib\\site-packages\\tensorflow\\python\\ops\\gradients_util.py:93: UserWarning: Converting sparse IndexedSlices to a dense Tensor of unknown shape. This may consume a large amount of memory.\n",
      "  \"Converting sparse IndexedSlices to a dense Tensor of unknown shape. \"\n",
      "D:\\Universidad Nacional\\Programas\\Anaconda\\Anaconda\\envs\\p37env\\lib\\site-packages\\tensorflow\\python\\ops\\gradients_util.py:93: UserWarning: Converting sparse IndexedSlices to a dense Tensor of unknown shape. This may consume a large amount of memory.\n",
      "  \"Converting sparse IndexedSlices to a dense Tensor of unknown shape. \"\n",
      "D:\\Universidad Nacional\\Programas\\Anaconda\\Anaconda\\envs\\p37env\\lib\\site-packages\\tensorflow\\python\\ops\\gradients_util.py:93: UserWarning: Converting sparse IndexedSlices to a dense Tensor of unknown shape. This may consume a large amount of memory.\n",
      "  \"Converting sparse IndexedSlices to a dense Tensor of unknown shape. \"\n"
     ]
    },
    {
     "name": "stdout",
     "output_type": "stream",
     "text": [
      "Epoch 1/5\n",
      "480/480 [==============================] - 16519s 34s/step - loss: 1.6588 - rpn_class_loss: 0.0498 - rpn_bbox_loss: 0.4528 - mrcnn_class_loss: 0.1533 - mrcnn_bbox_loss: 0.4465 - mrcnn_mask_loss: 0.5563 - val_loss: 1.4660 - val_rpn_class_loss: 0.0412 - val_rpn_bbox_loss: 0.3710 - val_mrcnn_class_loss: 0.1483 - val_mrcnn_bbox_loss: 0.3687 - val_mrcnn_mask_loss: 0.5369\n",
      "Epoch 2/5\n",
      "480/480 [==============================] - 16621s 35s/step - loss: 1.2511 - rpn_class_loss: 0.0305 - rpn_bbox_loss: 0.2957 - mrcnn_class_loss: 0.1354 - mrcnn_bbox_loss: 0.2896 - mrcnn_mask_loss: 0.4999 - val_loss: 1.3950 - val_rpn_class_loss: 0.0901 - val_rpn_bbox_loss: 0.3862 - val_mrcnn_class_loss: 0.1157 - val_mrcnn_bbox_loss: 0.3149 - val_mrcnn_mask_loss: 0.4881\n",
      "Epoch 3/5\n",
      "480/480 [==============================] - 17489s 36s/step - loss: 1.1126 - rpn_class_loss: 0.0269 - rpn_bbox_loss: 0.2496 - mrcnn_class_loss: 0.1188 - mrcnn_bbox_loss: 0.2379 - mrcnn_mask_loss: 0.4793 - val_loss: 1.3964 - val_rpn_class_loss: 0.0295 - val_rpn_bbox_loss: 0.3642 - val_mrcnn_class_loss: 0.1438 - val_mrcnn_bbox_loss: 0.2981 - val_mrcnn_mask_loss: 0.5608\n",
      "Epoch 4/5\n",
      "480/480 [==============================] - 17153s 36s/step - loss: 1.0170 - rpn_class_loss: 0.0247 - rpn_bbox_loss: 0.2289 - mrcnn_class_loss: 0.1082 - mrcnn_bbox_loss: 0.1996 - mrcnn_mask_loss: 0.4556 - val_loss: 1.4866 - val_rpn_class_loss: 0.0987 - val_rpn_bbox_loss: 0.4238 - val_mrcnn_class_loss: 0.1180 - val_mrcnn_bbox_loss: 0.3255 - val_mrcnn_mask_loss: 0.5206\n",
      "Epoch 5/5\n",
      "480/480 [==============================] - 17106s 36s/step - loss: 0.9500 - rpn_class_loss: 0.0232 - rpn_bbox_loss: 0.2006 - mrcnn_class_loss: 0.1006 - mrcnn_bbox_loss: 0.1797 - mrcnn_mask_loss: 0.4459 - val_loss: 1.2824 - val_rpn_class_loss: 0.0289 - val_rpn_bbox_loss: 0.3037 - val_mrcnn_class_loss: 0.1407 - val_mrcnn_bbox_loss: 0.3005 - val_mrcnn_mask_loss: 0.5085\n"
     ]
    }
   ],
   "source": [
    "config = rostroconfig()\n",
    "config.display()\n",
    "# define the model\n",
    "model = MaskRCNN(mode='training', model_dir=img_dir+'/Pesos', config=config)\n",
    "# load weights (mscoco) and exclude the output layers\n",
    "model.load_weights(img_dir+'/mask_rcnn_coco.h5', by_name=True, exclude=[\"mrcnn_class_logits\", \"mrcnn_bbox_fc\",  \"mrcnn_bbox\", \"mrcnn_mask\"])\n",
    "# train weights (output layers or 'heads')\n",
    "model.train(train_set, test_set, learning_rate=config.LEARNING_RATE, epochs=5, layers='heads')"
   ]
  },
  {
   "cell_type": "code",
   "execution_count": null,
   "id": "ed903bdc",
   "metadata": {},
   "outputs": [],
   "source": [
    "model."
   ]
  },
  {
   "cell_type": "code",
   "execution_count": null,
   "id": "3a5b5f20",
   "metadata": {},
   "outputs": [],
   "source": [
    "val_img=rd.sample(listdir(images_dir),len(listdir(images_dir))*p_val//100)"
   ]
  },
  {
   "cell_type": "code",
   "execution_count": null,
   "id": "669c3061",
   "metadata": {
    "tags": []
   },
   "outputs": [],
   "source": [
    "!pip install h5py==2.10.0"
   ]
  },
  {
   "cell_type": "code",
   "execution_count": null,
   "id": "cf38cc81",
   "metadata": {
    "tags": []
   },
   "outputs": [],
   "source": [
    "!pip install tensorflow==1.14.0"
   ]
  },
  {
   "cell_type": "code",
   "execution_count": null,
   "id": "36dda99c",
   "metadata": {
    "tags": []
   },
   "outputs": [],
   "source": [
    "!pip install keras==2.2.4\n",
    "from keras.engine import saving"
   ]
  },
  {
   "cell_type": "code",
   "execution_count": null,
   "id": "4aef3b84",
   "metadata": {},
   "outputs": [],
   "source": []
  },
  {
   "cell_type": "code",
   "execution_count": null,
   "id": "8bf99527",
   "metadata": {},
   "outputs": [],
   "source": []
  },
  {
   "cell_type": "code",
   "execution_count": null,
   "id": "2099e1ce",
   "metadata": {
    "tags": []
   },
   "outputs": [],
   "source": []
  },
  {
   "cell_type": "code",
   "execution_count": null,
   "id": "78e3cac5",
   "metadata": {},
   "outputs": [],
   "source": []
  },
  {
   "cell_type": "code",
   "execution_count": null,
   "id": "1ce4fc6f",
   "metadata": {},
   "outputs": [],
   "source": []
  },
  {
   "cell_type": "code",
   "execution_count": null,
   "id": "1d4ca669",
   "metadata": {},
   "outputs": [],
   "source": []
  },
  {
   "cell_type": "code",
   "execution_count": null,
   "id": "f089fcc9",
   "metadata": {},
   "outputs": [],
   "source": []
  },
  {
   "cell_type": "code",
   "execution_count": null,
   "id": "6ebbe61d",
   "metadata": {},
   "outputs": [],
   "source": []
  },
  {
   "cell_type": "code",
   "execution_count": null,
   "id": "d884808a",
   "metadata": {},
   "outputs": [],
   "source": []
  },
  {
   "cell_type": "code",
   "execution_count": null,
   "id": "68170457",
   "metadata": {},
   "outputs": [],
   "source": []
  },
  {
   "cell_type": "code",
   "execution_count": null,
   "id": "fab22954",
   "metadata": {},
   "outputs": [],
   "source": []
  },
  {
   "cell_type": "code",
   "execution_count": null,
   "id": "cfae8a4a",
   "metadata": {},
   "outputs": [],
   "source": []
  },
  {
   "cell_type": "code",
   "execution_count": null,
   "id": "6cea6723",
   "metadata": {},
   "outputs": [],
   "source": []
  },
  {
   "cell_type": "code",
   "execution_count": null,
   "id": "4fbe013e",
   "metadata": {},
   "outputs": [],
   "source": [
    "\n"
   ]
  },
  {
   "cell_type": "code",
   "execution_count": null,
   "id": "660dee79",
   "metadata": {},
   "outputs": [],
   "source": []
  },
  {
   "cell_type": "code",
   "execution_count": null,
   "id": "6e291895",
   "metadata": {},
   "outputs": [],
   "source": []
  },
  {
   "cell_type": "code",
   "execution_count": null,
   "id": "3956ac63",
   "metadata": {},
   "outputs": [],
   "source": []
  },
  {
   "cell_type": "code",
   "execution_count": null,
   "id": "93d31184",
   "metadata": {},
   "outputs": [],
   "source": [
    "\n"
   ]
  },
  {
   "cell_type": "code",
   "execution_count": null,
   "id": "63c43d16",
   "metadata": {},
   "outputs": [],
   "source": []
  },
  {
   "cell_type": "code",
   "execution_count": null,
   "id": "b05aef2f",
   "metadata": {},
   "outputs": [],
   "source": []
  },
  {
   "cell_type": "code",
   "execution_count": null,
   "id": "a75446cd",
   "metadata": {},
   "outputs": [],
   "source": []
  },
  {
   "cell_type": "code",
   "execution_count": null,
   "id": "272714a6",
   "metadata": {},
   "outputs": [],
   "source": []
  },
  {
   "cell_type": "code",
   "execution_count": null,
   "id": "6c739fd8",
   "metadata": {},
   "outputs": [],
   "source": []
  },
  {
   "cell_type": "code",
   "execution_count": null,
   "id": "45180afa",
   "metadata": {},
   "outputs": [],
   "source": []
  },
  {
   "cell_type": "code",
   "execution_count": null,
   "id": "72b9866f",
   "metadata": {
    "tags": []
   },
   "outputs": [],
   "source": []
  },
  {
   "cell_type": "code",
   "execution_count": null,
   "id": "1035d8b6",
   "metadata": {
    "tags": []
   },
   "outputs": [],
   "source": []
  },
  {
   "cell_type": "code",
   "execution_count": null,
   "id": "c50aaf28",
   "metadata": {
    "tags": []
   },
   "outputs": [],
   "source": []
  },
  {
   "cell_type": "code",
   "execution_count": null,
   "id": "d5f22256",
   "metadata": {},
   "outputs": [],
   "source": [
    "\n",
    "    "
   ]
  },
  {
   "cell_type": "code",
   "execution_count": null,
   "id": "a450134a",
   "metadata": {},
   "outputs": [],
   "source": [
    "\n",
    "    "
   ]
  },
  {
   "cell_type": "code",
   "execution_count": null,
   "id": "50c09dde",
   "metadata": {},
   "outputs": [],
   "source": []
  },
  {
   "cell_type": "code",
   "execution_count": null,
   "id": "7afe99a5",
   "metadata": {
    "tags": []
   },
   "outputs": [],
   "source": []
  },
  {
   "cell_type": "code",
   "execution_count": null,
   "id": "190b5649",
   "metadata": {},
   "outputs": [],
   "source": []
  },
  {
   "cell_type": "code",
   "execution_count": null,
   "id": "7aef075c",
   "metadata": {},
   "outputs": [],
   "source": []
  },
  {
   "cell_type": "code",
   "execution_count": null,
   "id": "cf3dc117",
   "metadata": {},
   "outputs": [],
   "source": [
    "  \n"
   ]
  },
  {
   "cell_type": "code",
   "execution_count": null,
   "id": "f25fd4cc",
   "metadata": {
    "tags": []
   },
   "outputs": [],
   "source": []
  },
  {
   "cell_type": "code",
   "execution_count": null,
   "id": "5650e554",
   "metadata": {
    "tags": []
   },
   "outputs": [],
   "source": []
  },
  {
   "cell_type": "code",
   "execution_count": null,
   "id": "df6c8a0d",
   "metadata": {},
   "outputs": [],
   "source": []
  },
  {
   "cell_type": "code",
   "execution_count": null,
   "id": "8ee2f9b1",
   "metadata": {},
   "outputs": [],
   "source": []
  },
  {
   "cell_type": "code",
   "execution_count": null,
   "id": "ee9ef155",
   "metadata": {},
   "outputs": [],
   "source": []
  },
  {
   "cell_type": "code",
   "execution_count": null,
   "id": "5b6c7143",
   "metadata": {},
   "outputs": [],
   "source": []
  },
  {
   "cell_type": "code",
   "execution_count": null,
   "id": "fbd50c70",
   "metadata": {},
   "outputs": [],
   "source": []
  },
  {
   "cell_type": "code",
   "execution_count": null,
   "id": "8bf68a90",
   "metadata": {},
   "outputs": [],
   "source": []
  },
  {
   "cell_type": "code",
   "execution_count": null,
   "id": "cf3991f6",
   "metadata": {},
   "outputs": [],
   "source": []
  },
  {
   "cell_type": "code",
   "execution_count": null,
   "id": "3a3f6654",
   "metadata": {},
   "outputs": [],
   "source": []
  }
 ],
 "metadata": {
  "kernelspec": {
   "display_name": "Python 3",
   "language": "python",
   "name": "python3"
  },
  "language_info": {
   "codemirror_mode": {
    "name": "ipython",
    "version": 3
   },
   "file_extension": ".py",
   "mimetype": "text/x-python",
   "name": "python",
   "nbconvert_exporter": "python",
   "pygments_lexer": "ipython3",
   "version": "3.7.11"
  }
 },
 "nbformat": 4,
 "nbformat_minor": 5
}
